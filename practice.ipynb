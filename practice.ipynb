{
 "cells": [
  {
   "cell_type": "code",
   "execution_count": 19,
   "metadata": {},
   "outputs": [],
   "source": [
    "from bs4 import BeautifulSoup\n",
    "import requests\n",
    "import pandas as pd\n",
    "\n",
    "response = requests.get('https://btech-data-analytics.github.io/bridgerland-technical-college/employees_3.html').text\n",
    "soup = BeautifulSoup(response, 'html.parser')"
   ]
  },
  {
   "cell_type": "code",
   "execution_count": 4,
   "metadata": {},
   "outputs": [
    {
     "data": {
      "text/plain": [
       "<!DOCTYPE html>\n",
       "\n",
       "<html>\n",
       "<head>\n",
       "<title>Employees Table</title>\n",
       "<style>\n",
       "        table {\n",
       "            border-collapse: collapse;\n",
       "            width: 50%;\n",
       "            margin: 20px auto;\n",
       "            font-family: 'Gill Sans', 'Gill Sans MT', Calibri, 'Trebuchet MS', sans-serif;\n",
       "        }\n",
       "        th, td {\n",
       "            border: 1px solid #ddd;\n",
       "            padding: 8px;\n",
       "            text-align: left;\n",
       "        }\n",
       "        tr:nth-child(odd) {\n",
       "            background-color: #ddd;\n",
       "        }\n",
       "        tr:nth-child(odd):hover {\n",
       "            background-color: #ccc;\n",
       "        }\n",
       "        tr:nth-child(even):hover {\n",
       "            background-color: #eee;\n",
       "        }\n",
       "        th {\n",
       "            cursor: pointer;\n",
       "            background-color: #222;\n",
       "            color: #eee\n",
       "        }\n",
       "        th:hover {\n",
       "            background-color: #333;\n",
       "        }\n",
       "        h1{\n",
       "            text-align: center;\n",
       "            font-family: 'Franklin Gothic Medium', 'Arial Narrow', Arial, sans-serif;\n",
       "            font-size: 80px;\n",
       "            font-kerning: normal;\n",
       "            color: #7d231f;\n",
       "            \n",
       "        }\n",
       "        h2{\n",
       "            text-align: center;\n",
       "            font-family: 'Franklin Gothic Medium', 'Arial Narrow', Arial, sans-serif;\n",
       "            font-size: 60px;\n",
       "            font-kerning: normal;\n",
       "            color: #4e0c09;\n",
       "            \n",
       "        }\n",
       "        p {\n",
       "            font-family: 'Courier New', Courier, monospace;\n",
       "            font-size: large;\n",
       "        }\n",
       "    </style>\n",
       "</head>\n",
       "<body>\n",
       "<p>This page was created using HTML, CSS, and JavaScript. The HTML code provides the structure of the page, the CSS determines how each element should be formatted, and JavaScript determines how the user can interact with the web page. In this case, JavaScript allows users to click the column names of the table below to sort the data.</p>\n",
       "<h1>Employees</h1>\n",
       "<table id=\"data-table\">\n",
       "<thead>\n",
       "<tr>\n",
       "<th onclick=\"sortTable(0)\">ID</th>\n",
       "<th onclick=\"sortTable(1)\">Name</th>\n",
       "<th onclick=\"sortTable(2)\">Age</th>\n",
       "</tr>\n",
       "</thead>\n",
       "<tbody>\n",
       "<tr class=\"employee\">\n",
       "<td>101</td>\n",
       "<td>John Doe</td>\n",
       "<td>28</td>\n",
       "</tr>\n",
       "<tr class=\"employee\">\n",
       "<td>102</td>\n",
       "<td>Jane Smith</td>\n",
       "<td>32</td>\n",
       "</tr>\n",
       "<tr class=\"employee\">\n",
       "<td>103</td>\n",
       "<td>Robert Johnson</td>\n",
       "<td>24</td>\n",
       "</tr>\n",
       "<tr class=\"employee\">\n",
       "<td>104</td>\n",
       "<td>Mary Johnson</td>\n",
       "<td>29</td>\n",
       "</tr>\n",
       "<tr class=\"employee\">\n",
       "<td>105</td>\n",
       "<td>Michael Brown</td>\n",
       "<td>35</td>\n",
       "</tr>\n",
       "<tr class=\"employee\">\n",
       "<td>106</td>\n",
       "<td>Susan Davis</td>\n",
       "<td>27</td>\n",
       "</tr>\n",
       "<tr class=\"employee\">\n",
       "<td>107</td>\n",
       "<td>David Wilson</td>\n",
       "<td>31</td>\n",
       "</tr>\n",
       "<tr class=\"employee\">\n",
       "<td>108</td>\n",
       "<td>Linda Miller</td>\n",
       "<td>33</td>\n",
       "</tr>\n",
       "</tbody>\n",
       "</table>\n",
       "<h2>Why it's important</h2>\n",
       "<p>As you might be able to see, the actual data of this web page is stored in the HTML code. Both CSS and JavaScript have nothing to do with the actual data itself, but mostly just make the page look and work better. Thus, for web scraping the data from this page, only a knowledge of HTML is required.</p>\n",
       "<p>However, more modern websites don't always deliver the data in nice HTML tables. CSS is often used as a locator to locate the data inside of a particular table. Furthermore, more and more websites nowadays deliver empty HTML pages that are later populated with JavaScript processes to stop others from web scraping their sites. These issues are important to know about when performing web scraping.</p>\n",
       "<script>\n",
       "        function sortTable(column) {\n",
       "            var table, rows, switching, i, x, y, shouldSwitch;\n",
       "            table = document.getElementById(\"data-table\");\n",
       "            switching = true;\n",
       "\n",
       "            while (switching) {\n",
       "                switching = false;\n",
       "                rows = table.rows;\n",
       "\n",
       "                for (i = 1; i < (rows.length - 1); i++) {\n",
       "                    shouldSwitch = false;\n",
       "                    x = rows[i].getElementsByTagName(\"td\")[column];\n",
       "                    y = rows[i + 1].getElementsByTagName(\"td\")[column];\n",
       "\n",
       "                    if (x.innerHTML.toLowerCase() > y.innerHTML.toLowerCase()) {\n",
       "                        shouldSwitch = true;\n",
       "                        break;\n",
       "                    }\n",
       "                }\n",
       "\n",
       "                if (shouldSwitch) {\n",
       "                    rows[i].parentNode.insertBefore(rows[i + 1], rows[i]);\n",
       "                    switching = true;\n",
       "                }\n",
       "            }\n",
       "        }\n",
       "    </script>\n",
       "</body>\n",
       "</html>"
      ]
     },
     "execution_count": 4,
     "metadata": {},
     "output_type": "execute_result"
    }
   ],
   "source": [
    "soup"
   ]
  },
  {
   "cell_type": "code",
   "execution_count": 33,
   "metadata": {},
   "outputs": [],
   "source": [
    "employees = soup.find_all('tr', class_ = 'employee')"
   ]
  },
  {
   "cell_type": "code",
   "execution_count": 31,
   "metadata": {},
   "outputs": [
    {
     "data": {
      "text/html": [
       "<div>\n",
       "<style scoped>\n",
       "    .dataframe tbody tr th:only-of-type {\n",
       "        vertical-align: middle;\n",
       "    }\n",
       "\n",
       "    .dataframe tbody tr th {\n",
       "        vertical-align: top;\n",
       "    }\n",
       "\n",
       "    .dataframe thead th {\n",
       "        text-align: right;\n",
       "    }\n",
       "</style>\n",
       "<table border=\"1\" class=\"dataframe\">\n",
       "  <thead>\n",
       "    <tr style=\"text-align: right;\">\n",
       "      <th></th>\n",
       "      <th>ID</th>\n",
       "      <th>Name</th>\n",
       "      <th>Age</th>\n",
       "    </tr>\n",
       "  </thead>\n",
       "  <tbody>\n",
       "    <tr>\n",
       "      <th>0</th>\n",
       "      <td>101</td>\n",
       "      <td>John Doe</td>\n",
       "      <td>28</td>\n",
       "    </tr>\n",
       "    <tr>\n",
       "      <th>1</th>\n",
       "      <td>102</td>\n",
       "      <td>Jane Smith</td>\n",
       "      <td>32</td>\n",
       "    </tr>\n",
       "    <tr>\n",
       "      <th>2</th>\n",
       "      <td>103</td>\n",
       "      <td>Robert Johnson</td>\n",
       "      <td>24</td>\n",
       "    </tr>\n",
       "    <tr>\n",
       "      <th>3</th>\n",
       "      <td>104</td>\n",
       "      <td>Mary Johnson</td>\n",
       "      <td>29</td>\n",
       "    </tr>\n",
       "    <tr>\n",
       "      <th>4</th>\n",
       "      <td>105</td>\n",
       "      <td>Michael Brown</td>\n",
       "      <td>35</td>\n",
       "    </tr>\n",
       "  </tbody>\n",
       "</table>\n",
       "</div>"
      ],
      "text/plain": [
       "    ID            Name Age\n",
       "0  101        John Doe  28\n",
       "1  102      Jane Smith  32\n",
       "2  103  Robert Johnson  24\n",
       "3  104    Mary Johnson  29\n",
       "4  105   Michael Brown  35"
      ]
     },
     "execution_count": 31,
     "metadata": {},
     "output_type": "execute_result"
    }
   ],
   "source": [
    "id = []\n",
    "name = []\n",
    "age = []\n",
    "\n",
    "for employee in employees:\n",
    "    row = employee.find_all('td')\n",
    "    \n",
    "    id.append(row[0].text)\n",
    "    name.append(row[1].text)\n",
    "    age.append(row[2].text)\n",
    "    \n",
    "employee_dict = {\n",
    "    'ID': id,\n",
    "    'Name': name,\n",
    "    'Age': age\n",
    "}\n",
    "\n",
    "df = pd.DataFrame(employee_dict)\n",
    "\n",
    "df.head()"
   ]
  },
  {
   "cell_type": "code",
   "execution_count": 36,
   "metadata": {},
   "outputs": [
    {
     "name": "stdout",
     "output_type": "stream",
     "text": [
      "<class 'pandas.core.frame.DataFrame'>\n",
      "RangeIndex: 8 entries, 0 to 7\n",
      "Data columns (total 3 columns):\n",
      " #   Column  Non-Null Count  Dtype \n",
      "---  ------  --------------  ----- \n",
      " 0   ID      8 non-null      object\n",
      " 1   Name    8 non-null      object\n",
      " 2   Age     8 non-null      object\n",
      "dtypes: object(3)\n",
      "memory usage: 320.0+ bytes\n"
     ]
    }
   ],
   "source": [
    "df.info()"
   ]
  },
  {
   "cell_type": "code",
   "execution_count": 40,
   "metadata": {},
   "outputs": [
    {
     "data": {
      "text/plain": [
       "29.875"
      ]
     },
     "execution_count": 40,
     "metadata": {},
     "output_type": "execute_result"
    }
   ],
   "source": [
    "df['Age'] = df['Age'].astype(int)\n",
    "df['Age'].mean()"
   ]
  },
  {
   "cell_type": "code",
   "execution_count": 41,
   "metadata": {},
   "outputs": [
    {
     "data": {
      "text/plain": [
       "3.563204817496262"
      ]
     },
     "execution_count": 41,
     "metadata": {},
     "output_type": "execute_result"
    }
   ],
   "source": [
    "df['Age'].std()"
   ]
  }
 ],
 "metadata": {
  "kernelspec": {
   "display_name": "Python 3",
   "language": "python",
   "name": "python3"
  },
  "language_info": {
   "codemirror_mode": {
    "name": "ipython",
    "version": 3
   },
   "file_extension": ".py",
   "mimetype": "text/x-python",
   "name": "python",
   "nbconvert_exporter": "python",
   "pygments_lexer": "ipython3",
   "version": "3.10.0"
  }
 },
 "nbformat": 4,
 "nbformat_minor": 2
}
